{
 "cells": [
  {
   "cell_type": "code",
   "execution_count": 1,
   "id": "a8a5a079-1eeb-42ea-a3c2-231b8a7584a1",
   "metadata": {},
   "outputs": [
    {
     "name": "stdout",
     "output_type": "stream",
     "text": [
      "Python 3.8.19\n"
     ]
    }
   ],
   "source": [
    "**Environment Used**: mario\n",
    "! python --version"
   ]
  },
  {
   "cell_type": "code",
   "execution_count": 6,
   "id": "78759e5f-8ff0-4640-8e9d-f77a402168b2",
   "metadata": {},
   "outputs": [
    {
     "name": "stdout",
     "output_type": "stream",
     "text": [
      "Collecting setuptools==65.5.0\n",
      "  Downloading setuptools-65.5.0-py3-none-any.whl.metadata (6.3 kB)\n",
      "Collecting pip==21\n",
      "  Downloading pip-21.0-py3-none-any.whl.metadata (4.2 kB)\n",
      "Downloading setuptools-65.5.0-py3-none-any.whl (1.2 MB)\n",
      "   ---------------------------------------- 0.0/1.2 MB ? eta -:--:--\n",
      "    --------------------------------------- 0.0/1.2 MB 660.6 kB/s eta 0:00:02\n",
      "   --- ------------------------------------ 0.1/1.2 MB 1.4 MB/s eta 0:00:01\n",
      "   -------- ------------------------------- 0.3/1.2 MB 2.0 MB/s eta 0:00:01\n",
      "   ----------- ---------------------------- 0.4/1.2 MB 2.1 MB/s eta 0:00:01\n",
      "   ---------------- ----------------------- 0.5/1.2 MB 2.2 MB/s eta 0:00:01\n",
      "   --------------------- ------------------ 0.7/1.2 MB 2.5 MB/s eta 0:00:01\n",
      "   ------------------------- -------------- 0.8/1.2 MB 2.5 MB/s eta 0:00:01\n",
      "   ------------------------------- -------- 1.0/1.2 MB 2.7 MB/s eta 0:00:01\n",
      "   ------------------------------------- -- 1.2/1.2 MB 2.8 MB/s eta 0:00:01\n",
      "   ---------------------------------------- 1.2/1.2 MB 2.8 MB/s eta 0:00:00\n",
      "Downloading pip-21.0-py3-none-any.whl (1.5 MB)\n",
      "   ---------------------------------------- 0.0/1.5 MB ? eta -:--:--\n",
      "   ----- ---------------------------------- 0.2/1.5 MB 4.6 MB/s eta 0:00:01\n",
      "   ----------- ---------------------------- 0.4/1.5 MB 4.6 MB/s eta 0:00:01\n",
      "   ---------------- ----------------------- 0.6/1.5 MB 4.4 MB/s eta 0:00:01\n",
      "   ---------------------- ----------------- 0.9/1.5 MB 4.5 MB/s eta 0:00:01\n",
      "   ---------------------------- ----------- 1.1/1.5 MB 4.6 MB/s eta 0:00:01\n",
      "   ----------------------------------- ---- 1.4/1.5 MB 4.8 MB/s eta 0:00:01\n",
      "   ---------------------------------------- 1.5/1.5 MB 4.7 MB/s eta 0:00:00\n"
     ]
    },
    {
     "name": "stderr",
     "output_type": "stream",
     "text": [
      "ERROR: To modify pip, please run the following command:\n",
      "C:\\Users\\vasil\\miniconda3\\envs\\mario\\python.exe -m pip install setuptools==65.5.0 pip==21\n"
     ]
    },
    {
     "name": "stdout",
     "output_type": "stream",
     "text": [
      "Collecting wheel==0.38.0\n",
      "  Downloading wheel-0.38.0-py3-none-any.whl.metadata (2.2 kB)\n",
      "Requirement already satisfied: setuptools>=57.0.0 in c:\\users\\vasil\\miniconda3\\envs\\mario\\lib\\site-packages (from wheel==0.38.0) (69.5.1)\n",
      "Downloading wheel-0.38.0-py3-none-any.whl (35 kB)\n",
      "Installing collected packages: wheel\n",
      "  Attempting uninstall: wheel\n",
      "    Found existing installation: wheel 0.43.0\n",
      "    Uninstalling wheel-0.43.0:\n",
      "      Successfully uninstalled wheel-0.43.0\n",
      "Successfully installed wheel-0.38.0\n"
     ]
    },
    {
     "name": "stderr",
     "output_type": "stream",
     "text": [
      "WARNING: The candidate selected for download or install is a yanked version: 'wheel' candidate (version 0.38.0 at https://files.pythonhosted.org/packages/bb/ae/02bad7c64ca060e037869584242729796a5eda0376bb944a3e03f4d9491b/wheel-0.38.0-py3-none-any.whl (from https://pypi.org/simple/wheel/) (requires-python:>=3.7))\n",
      "Reason for being yanked: Circular dependency with setuptools on --no-binary=:all:\n"
     ]
    },
    {
     "name": "stdout",
     "output_type": "stream",
     "text": [
      "Collecting gym_super_mario_bros==7.3.0\n",
      "  Using cached gym_super_mario_bros-7.3.0-py2.py3-none-any.whl.metadata (9.4 kB)\n",
      "Collecting nes-py>=8.0.0 (from gym_super_mario_bros==7.3.0)\n",
      "  Using cached nes_py-8.2.1.tar.gz (77 kB)\n",
      "  Preparing metadata (setup.py): started\n",
      "  Preparing metadata (setup.py): finished with status 'done'\n",
      "Collecting gym>=0.17.2 (from nes-py>=8.0.0->gym_super_mario_bros==7.3.0)\n",
      "  Using cached gym-0.26.2-py3-none-any.whl\n",
      "Collecting numpy>=1.18.5 (from nes-py>=8.0.0->gym_super_mario_bros==7.3.0)\n",
      "  Using cached numpy-1.24.4-cp38-cp38-win_amd64.whl.metadata (5.6 kB)\n",
      "Collecting pyglet<=1.5.21,>=1.4.0 (from nes-py>=8.0.0->gym_super_mario_bros==7.3.0)\n",
      "  Using cached pyglet-1.5.21-py3-none-any.whl.metadata (7.6 kB)\n",
      "Collecting tqdm>=4.48.2 (from nes-py>=8.0.0->gym_super_mario_bros==7.3.0)\n",
      "  Using cached tqdm-4.66.4-py3-none-any.whl.metadata (57 kB)\n",
      "Collecting cloudpickle>=1.2.0 (from gym>=0.17.2->nes-py>=8.0.0->gym_super_mario_bros==7.3.0)\n",
      "  Using cached cloudpickle-3.0.0-py3-none-any.whl.metadata (7.0 kB)\n",
      "Collecting gym-notices>=0.0.4 (from gym>=0.17.2->nes-py>=8.0.0->gym_super_mario_bros==7.3.0)\n",
      "  Using cached gym_notices-0.0.8-py3-none-any.whl.metadata (1.0 kB)\n",
      "Requirement already satisfied: importlib-metadata>=4.8.0 in c:\\users\\vasil\\miniconda3\\envs\\mario\\lib\\site-packages (from gym>=0.17.2->nes-py>=8.0.0->gym_super_mario_bros==7.3.0) (7.0.1)\n",
      "Requirement already satisfied: colorama in c:\\users\\vasil\\miniconda3\\envs\\mario\\lib\\site-packages (from tqdm>=4.48.2->nes-py>=8.0.0->gym_super_mario_bros==7.3.0) (0.4.6)\n",
      "Requirement already satisfied: zipp>=0.5 in c:\\users\\vasil\\miniconda3\\envs\\mario\\lib\\site-packages (from importlib-metadata>=4.8.0->gym>=0.17.2->nes-py>=8.0.0->gym_super_mario_bros==7.3.0) (3.17.0)\n",
      "Using cached gym_super_mario_bros-7.3.0-py2.py3-none-any.whl (198 kB)\n",
      "Using cached numpy-1.24.4-cp38-cp38-win_amd64.whl (14.9 MB)\n",
      "Using cached pyglet-1.5.21-py3-none-any.whl (1.1 MB)\n",
      "Using cached tqdm-4.66.4-py3-none-any.whl (78 kB)\n",
      "Using cached cloudpickle-3.0.0-py3-none-any.whl (20 kB)\n",
      "Using cached gym_notices-0.0.8-py3-none-any.whl (3.0 kB)\n",
      "Building wheels for collected packages: nes-py\n",
      "  Building wheel for nes-py (setup.py): started\n",
      "  Building wheel for nes-py (setup.py): finished with status 'error'\n",
      "  Running setup.py clean for nes-py\n",
      "Failed to build nes-py\n"
     ]
    },
    {
     "name": "stderr",
     "output_type": "stream",
     "text": [
      "  error: subprocess-exited-with-error\n",
      "  \n",
      "  python setup.py bdist_wheel did not run successfully.\n",
      "  exit code: 1\n",
      "  \n",
      "  [33 lines of output]\n",
      "  running bdist_wheel\n",
      "  running build\n",
      "  running build_py\n",
      "  creating build\n",
      "  creating build\\lib.win-amd64-cpython-38\n",
      "  creating build\\lib.win-amd64-cpython-38\\nes_py\n",
      "  copying nes_py\\nes_env.py -> build\\lib.win-amd64-cpython-38\\nes_py\n",
      "  copying nes_py\\_image_viewer.py -> build\\lib.win-amd64-cpython-38\\nes_py\n",
      "  copying nes_py\\_rom.py -> build\\lib.win-amd64-cpython-38\\nes_py\n",
      "  copying nes_py\\__init__.py -> build\\lib.win-amd64-cpython-38\\nes_py\n",
      "  creating build\\lib.win-amd64-cpython-38\\nes_py\\app\n",
      "  copying nes_py\\app\\cli.py -> build\\lib.win-amd64-cpython-38\\nes_py\\app\n",
      "  copying nes_py\\app\\play_human.py -> build\\lib.win-amd64-cpython-38\\nes_py\\app\n",
      "  copying nes_py\\app\\play_random.py -> build\\lib.win-amd64-cpython-38\\nes_py\\app\n",
      "  copying nes_py\\app\\__init__.py -> build\\lib.win-amd64-cpython-38\\nes_py\\app\n",
      "  creating build\\lib.win-amd64-cpython-38\\nes_py\\wrappers\n",
      "  copying nes_py\\wrappers\\joypad_space.py -> build\\lib.win-amd64-cpython-38\\nes_py\\wrappers\n",
      "  copying nes_py\\wrappers\\__init__.py -> build\\lib.win-amd64-cpython-38\\nes_py\\wrappers\n",
      "  running build_ext\n",
      "  building 'nes_py.lib_nes_env' extension\n",
      "  creating build\\temp.win-amd64-cpython-38\n",
      "  creating build\\temp.win-amd64-cpython-38\\Release\n",
      "  creating build\\temp.win-amd64-cpython-38\\Release\\nes_py\n",
      "  creating build\\temp.win-amd64-cpython-38\\Release\\nes_py\\nes\n",
      "  creating build\\temp.win-amd64-cpython-38\\Release\\nes_py\\nes\\src\n",
      "  creating build\\temp.win-amd64-cpython-38\\Release\\nes_py\\nes\\src\\mappers\n",
      "  \"C:\\Program Files\\Microsoft Visual Studio\\2022\\Community\\VC\\Tools\\MSVC\\14.37.32822\\bin\\HostX86\\x64\\cl.exe\" /c /nologo /O2 /W3 /GL /DNDEBUG /MD -Ines_py/nes/include -IC:\\Users\\vasil\\miniconda3\\envs\\mario\\include -IC:\\Users\\vasil\\miniconda3\\envs\\mario\\Include \"-IC:\\Program Files\\Microsoft Visual Studio\\2022\\Community\\VC\\Tools\\MSVC\\14.37.32822\\include\" \"-IC:\\Program Files\\Microsoft Visual Studio\\2022\\Community\\VC\\Tools\\MSVC\\14.37.32822\\ATLMFC\\include\" \"-IC:\\Program Files\\Microsoft Visual Studio\\2022\\Community\\VC\\Auxiliary\\VS\\include\" /EHsc /Tpnes_py/nes/src/mappers\\mapper_CNROM.cpp /Fobuild\\temp.win-amd64-cpython-38\\Release\\nes_py/nes/src/mappers\\mapper_CNROM.obj -std=c++1y -pipe -O3\n",
      "  cl : Command line warning D9002 : ignoring unknown option '-std=c++1y'\n",
      "  cl : Command line warning D9002 : ignoring unknown option '-pipe'\n",
      "  cl : Command line warning D9002 : ignoring unknown option '-O3'\n",
      "  mapper_CNROM.cpp\n",
      "  C:\\Program Files\\Microsoft Visual Studio\\2022\\Community\\VC\\Tools\\MSVC\\14.37.32822\\include\\yvals.h(21): fatal error C1083: Cannot open include file: 'crtdbg.h': No such file or directory\n",
      "  error: command 'C:\\\\Program Files\\\\Microsoft Visual Studio\\\\2022\\\\Community\\\\VC\\\\Tools\\\\MSVC\\\\14.37.32822\\\\bin\\\\HostX86\\\\x64\\\\cl.exe' failed with exit code 2\n",
      "  [end of output]\n",
      "  \n",
      "  note: This error originates from a subprocess, and is likely not a problem with pip.\n",
      "  ERROR: Failed building wheel for nes-py\n",
      "ERROR: Could not build wheels for nes-py, which is required to install pyproject.toml-based projects\n"
     ]
    }
   ],
   "source": [
    "! pip install setuptools==65.5.0 pip==21  \n",
    "! pip install wheel==0.38.0\n",
    "! pip3 install gym_super_mario_bros==7.3.0"
   ]
  },
  {
   "cell_type": "code",
   "execution_count": 7,
   "id": "8a39495d-af1e-4515-954c-0b0ae123a2df",
   "metadata": {},
   "outputs": [
    {
     "name": "stdout",
     "output_type": "stream",
     "text": [
      "Collecting nes_py\n",
      "  Using cached nes_py-8.2.1.tar.gz (77 kB)\n",
      "  Preparing metadata (setup.py): started\n",
      "  Preparing metadata (setup.py): finished with status 'done'\n",
      "Collecting gym>=0.17.2 (from nes_py)\n",
      "  Using cached gym-0.26.2-py3-none-any.whl\n",
      "Collecting numpy>=1.18.5 (from nes_py)\n",
      "  Using cached numpy-1.24.4-cp38-cp38-win_amd64.whl.metadata (5.6 kB)\n",
      "Collecting pyglet<=1.5.21,>=1.4.0 (from nes_py)\n",
      "  Using cached pyglet-1.5.21-py3-none-any.whl.metadata (7.6 kB)\n",
      "Collecting tqdm>=4.48.2 (from nes_py)\n",
      "  Using cached tqdm-4.66.4-py3-none-any.whl.metadata (57 kB)\n",
      "Collecting cloudpickle>=1.2.0 (from gym>=0.17.2->nes_py)\n",
      "  Using cached cloudpickle-3.0.0-py3-none-any.whl.metadata (7.0 kB)\n",
      "Collecting gym-notices>=0.0.4 (from gym>=0.17.2->nes_py)\n",
      "  Using cached gym_notices-0.0.8-py3-none-any.whl.metadata (1.0 kB)\n",
      "Requirement already satisfied: importlib-metadata>=4.8.0 in c:\\users\\vasil\\miniconda3\\envs\\mario\\lib\\site-packages (from gym>=0.17.2->nes_py) (7.0.1)\n",
      "Requirement already satisfied: colorama in c:\\users\\vasil\\miniconda3\\envs\\mario\\lib\\site-packages (from tqdm>=4.48.2->nes_py) (0.4.6)\n",
      "Requirement already satisfied: zipp>=0.5 in c:\\users\\vasil\\miniconda3\\envs\\mario\\lib\\site-packages (from importlib-metadata>=4.8.0->gym>=0.17.2->nes_py) (3.17.0)\n",
      "Using cached numpy-1.24.4-cp38-cp38-win_amd64.whl (14.9 MB)\n",
      "Using cached pyglet-1.5.21-py3-none-any.whl (1.1 MB)\n",
      "Using cached tqdm-4.66.4-py3-none-any.whl (78 kB)\n",
      "Using cached cloudpickle-3.0.0-py3-none-any.whl (20 kB)\n",
      "Using cached gym_notices-0.0.8-py3-none-any.whl (3.0 kB)\n",
      "Building wheels for collected packages: nes_py\n",
      "  Building wheel for nes_py (setup.py): started\n",
      "  Building wheel for nes_py (setup.py): finished with status 'error'\n",
      "  Running setup.py clean for nes_py\n",
      "Failed to build nes_py\n"
     ]
    },
    {
     "name": "stderr",
     "output_type": "stream",
     "text": [
      "  error: subprocess-exited-with-error\n",
      "  \n",
      "  python setup.py bdist_wheel did not run successfully.\n",
      "  exit code: 1\n",
      "  \n",
      "  [33 lines of output]\n",
      "  running bdist_wheel\n",
      "  running build\n",
      "  running build_py\n",
      "  creating build\n",
      "  creating build\\lib.win-amd64-cpython-38\n",
      "  creating build\\lib.win-amd64-cpython-38\\nes_py\n",
      "  copying nes_py\\nes_env.py -> build\\lib.win-amd64-cpython-38\\nes_py\n",
      "  copying nes_py\\_image_viewer.py -> build\\lib.win-amd64-cpython-38\\nes_py\n",
      "  copying nes_py\\_rom.py -> build\\lib.win-amd64-cpython-38\\nes_py\n",
      "  copying nes_py\\__init__.py -> build\\lib.win-amd64-cpython-38\\nes_py\n",
      "  creating build\\lib.win-amd64-cpython-38\\nes_py\\app\n",
      "  copying nes_py\\app\\cli.py -> build\\lib.win-amd64-cpython-38\\nes_py\\app\n",
      "  copying nes_py\\app\\play_human.py -> build\\lib.win-amd64-cpython-38\\nes_py\\app\n",
      "  copying nes_py\\app\\play_random.py -> build\\lib.win-amd64-cpython-38\\nes_py\\app\n",
      "  copying nes_py\\app\\__init__.py -> build\\lib.win-amd64-cpython-38\\nes_py\\app\n",
      "  creating build\\lib.win-amd64-cpython-38\\nes_py\\wrappers\n",
      "  copying nes_py\\wrappers\\joypad_space.py -> build\\lib.win-amd64-cpython-38\\nes_py\\wrappers\n",
      "  copying nes_py\\wrappers\\__init__.py -> build\\lib.win-amd64-cpython-38\\nes_py\\wrappers\n",
      "  running build_ext\n",
      "  building 'nes_py.lib_nes_env' extension\n",
      "  creating build\\temp.win-amd64-cpython-38\n",
      "  creating build\\temp.win-amd64-cpython-38\\Release\n",
      "  creating build\\temp.win-amd64-cpython-38\\Release\\nes_py\n",
      "  creating build\\temp.win-amd64-cpython-38\\Release\\nes_py\\nes\n",
      "  creating build\\temp.win-amd64-cpython-38\\Release\\nes_py\\nes\\src\n",
      "  creating build\\temp.win-amd64-cpython-38\\Release\\nes_py\\nes\\src\\mappers\n",
      "  \"C:\\Program Files\\Microsoft Visual Studio\\2022\\Community\\VC\\Tools\\MSVC\\14.37.32822\\bin\\HostX86\\x64\\cl.exe\" /c /nologo /O2 /W3 /GL /DNDEBUG /MD -Ines_py/nes/include -IC:\\Users\\vasil\\miniconda3\\envs\\mario\\include -IC:\\Users\\vasil\\miniconda3\\envs\\mario\\Include \"-IC:\\Program Files\\Microsoft Visual Studio\\2022\\Community\\VC\\Tools\\MSVC\\14.37.32822\\include\" \"-IC:\\Program Files\\Microsoft Visual Studio\\2022\\Community\\VC\\Tools\\MSVC\\14.37.32822\\ATLMFC\\include\" \"-IC:\\Program Files\\Microsoft Visual Studio\\2022\\Community\\VC\\Auxiliary\\VS\\include\" /EHsc /Tpnes_py/nes/src/mappers\\mapper_CNROM.cpp /Fobuild\\temp.win-amd64-cpython-38\\Release\\nes_py/nes/src/mappers\\mapper_CNROM.obj -std=c++1y -pipe -O3\n",
      "  cl : Command line warning D9002 : ignoring unknown option '-std=c++1y'\n",
      "  cl : Command line warning D9002 : ignoring unknown option '-pipe'\n",
      "  cl : Command line warning D9002 : ignoring unknown option '-O3'\n",
      "  mapper_CNROM.cpp\n",
      "  C:\\Program Files\\Microsoft Visual Studio\\2022\\Community\\VC\\Tools\\MSVC\\14.37.32822\\include\\yvals.h(21): fatal error C1083: Cannot open include file: 'crtdbg.h': No such file or directory\n",
      "  error: command 'C:\\\\Program Files\\\\Microsoft Visual Studio\\\\2022\\\\Community\\\\VC\\\\Tools\\\\MSVC\\\\14.37.32822\\\\bin\\\\HostX86\\\\x64\\\\cl.exe' failed with exit code 2\n",
      "  [end of output]\n",
      "  \n",
      "  note: This error originates from a subprocess, and is likely not a problem with pip.\n",
      "  ERROR: Failed building wheel for nes_py\n",
      "ERROR: Could not build wheels for nes_py, which is required to install pyproject.toml-based projects\n"
     ]
    }
   ],
   "source": [
    "! pip3 install nes_py"
   ]
  },
  {
   "cell_type": "code",
   "execution_count": null,
   "id": "b5055516-7a2f-4fa6-b717-4200510543d6",
   "metadata": {},
   "outputs": [],
   "source": [
    "! pip3 install gym==0.21.0"
   ]
  }
 ],
 "metadata": {
  "kernelspec": {
   "display_name": "Python 3 (ipykernel)",
   "language": "python",
   "name": "python3"
  },
  "language_info": {
   "codemirror_mode": {
    "name": "ipython",
    "version": 3
   },
   "file_extension": ".py",
   "mimetype": "text/x-python",
   "name": "python",
   "nbconvert_exporter": "python",
   "pygments_lexer": "ipython3",
   "version": "3.8.19"
  }
 },
 "nbformat": 4,
 "nbformat_minor": 5
}
