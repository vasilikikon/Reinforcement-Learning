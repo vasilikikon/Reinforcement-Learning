{
 "cells": [
  {
   "cell_type": "code",
   "execution_count": 1,
   "id": "c054e4ee-5c12-4613-b6e3-ee8341f6a271",
   "metadata": {},
   "outputs": [],
   "source": [
    "#! pip install wheel \n",
    "#! conda install swig\n",
    "#! pip install gym[box2d]\n",
    "#! pip install pygame\n",
    "#! pip install swig\n",
    "#! pip3 install Box2D\n",
    "#! pip3 install box2d box2d-kengz\n",
    "#! conda install -c conda-forge gym-box2d\n",
    "#!pip install gym[box2d] pyglet==1.3.2\n",
    "#!pip install box2d-py\n",
    "#!pip install gym\n",
    "#!conda install -c conda-forge pybox2d\n",
    "#!conda update conda\n",
    "#!pip install --upgrade pip\n",
    "\n",
    "**Environment Used**: new_rl_env"
   ]
  },
  {
   "cell_type": "code",
   "execution_count": 2,
   "id": "96236848-fd0c-43d5-8fc1-16d5a90681be",
   "metadata": {},
   "outputs": [
    {
     "data": {
      "text/plain": [
       "(array([[[0, 0, 0],\n",
       "         [0, 0, 0],\n",
       "         [0, 0, 0],\n",
       "         ...,\n",
       "         [0, 0, 0],\n",
       "         [0, 0, 0],\n",
       "         [0, 0, 0]],\n",
       " \n",
       "        [[0, 0, 0],\n",
       "         [0, 0, 0],\n",
       "         [0, 0, 0],\n",
       "         ...,\n",
       "         [0, 0, 0],\n",
       "         [0, 0, 0],\n",
       "         [0, 0, 0]],\n",
       " \n",
       "        [[0, 0, 0],\n",
       "         [0, 0, 0],\n",
       "         [0, 0, 0],\n",
       "         ...,\n",
       "         [0, 0, 0],\n",
       "         [0, 0, 0],\n",
       "         [0, 0, 0]],\n",
       " \n",
       "        ...,\n",
       " \n",
       "        [[0, 0, 0],\n",
       "         [0, 0, 0],\n",
       "         [0, 0, 0],\n",
       "         ...,\n",
       "         [0, 0, 0],\n",
       "         [0, 0, 0],\n",
       "         [0, 0, 0]],\n",
       " \n",
       "        [[0, 0, 0],\n",
       "         [0, 0, 0],\n",
       "         [0, 0, 0],\n",
       "         ...,\n",
       "         [0, 0, 0],\n",
       "         [0, 0, 0],\n",
       "         [0, 0, 0]],\n",
       " \n",
       "        [[0, 0, 0],\n",
       "         [0, 0, 0],\n",
       "         [0, 0, 0],\n",
       "         ...,\n",
       "         [0, 0, 0],\n",
       "         [0, 0, 0],\n",
       "         [0, 0, 0]]], dtype=uint8),\n",
       " {})"
      ]
     },
     "execution_count": 2,
     "metadata": {},
     "output_type": "execute_result"
    }
   ],
   "source": [
    "import gym\n",
    "import pygame\n",
    "# Attempt to import Box2D, if it's not already available\n",
    "try:\n",
    "    import Box2D\n",
    "except ImportError:\n",
    "    !pip install box2d-py\n",
    "    import Box2D\n",
    "\n",
    "env_name = \"CarRacing-v2\"\n",
    "env = gym.make(env_name, render_mode=\"human\")\n",
    "\n",
    "# Test the environment by resetting it\n",
    "env.reset()\n"
   ]
  },
  {
   "cell_type": "code",
   "execution_count": 3,
   "id": "27e4f7cb-ea47-4cfc-8697-4ab94d347d84",
   "metadata": {},
   "outputs": [],
   "source": [
    "env.close()"
   ]
  },
  {
   "cell_type": "code",
   "execution_count": 4,
   "id": "e38d9f83-9cb3-4e80-abdf-dddbfc688db1",
   "metadata": {},
   "outputs": [
    {
     "data": {
      "text/plain": [
       "Box([-1.  0.  0.], 1.0, (3,), float32)"
      ]
     },
     "execution_count": 4,
     "metadata": {},
     "output_type": "execute_result"
    }
   ],
   "source": [
    "env.action_space"
   ]
  },
  {
   "cell_type": "code",
   "execution_count": 5,
   "id": "ca42f528-4f7f-41c3-9d2d-fbcbeb2a394a",
   "metadata": {},
   "outputs": [
    {
     "data": {
      "text/plain": [
       "array([0.6909325 , 0.3991791 , 0.96292895], dtype=float32)"
      ]
     },
     "execution_count": 5,
     "metadata": {},
     "output_type": "execute_result"
    }
   ],
   "source": [
    "env.action_space.sample()"
   ]
  },
  {
   "cell_type": "code",
   "execution_count": null,
   "id": "241190a0-140b-4b26-8943-212b665dd692",
   "metadata": {},
   "outputs": [
    {
     "name": "stderr",
     "output_type": "stream",
     "text": [
      "C:\\Users\\vasil\\miniconda3\\envs\\new_rl_env\\Lib\\site-packages\\gym\\utils\\passive_env_checker.py:233: DeprecationWarning: `np.bool8` is a deprecated alias for `np.bool_`.  (Deprecated NumPy 1.24)\n",
      "  if not isinstance(terminated, (bool, np.bool8)):\n"
     ]
    },
    {
     "name": "stdout",
     "output_type": "stream",
     "text": [
      "Episode #: 1\n",
      "Score: -870.6210191083874\n"
     ]
    }
   ],
   "source": [
    "import gym\n",
    "import pygame\n",
    "\n",
    "env_name = \"CarRacing-v2\"\n",
    "env = gym.make(env_name, render_mode=\"human\")\n",
    "\n",
    "# Initialize pygame display\n",
    "pygame.init()\n",
    "pygame.display.set_mode((600, 400))\n",
    "\n",
    "episodes = 5\n",
    "\n",
    "for e in range(1, episodes+1):\n",
    "    state = env.reset()\n",
    "    done = False\n",
    "    score = 0\n",
    "\n",
    "    while not done:\n",
    "        env.render()\n",
    "        action = env.action_space.sample()  # we are taking random actions, left and right\n",
    "        n_state, reward, done, _, info = env.step(action)\n",
    "        score += reward\n",
    "\n",
    "    print(f\"Episode #: {e}\")\n",
    "    print(f\"Score: {score}\")\n",
    "\n",
    "env.close()\n",
    "pygame.quit()\n"
   ]
  },
  {
   "cell_type": "code",
   "execution_count": null,
   "id": "1348107a-67bc-4d08-bf7a-97e2cce8c38d",
   "metadata": {},
   "outputs": [],
   "source": [
    "# create our environment again\n",
    "env = gym.make(environment_name, render_mode=\"human\")\n",
    "# vectorise our environment\n",
    "env = DummyVecEnv([lambda:env])\n",
    "# import the algorithm\n",
    "model = PPO(\"CnnPolicy\", env, verbose=1, tensorboard_log=\"training/logs\")"
   ]
  },
  {
   "cell_type": "code",
   "execution_count": null,
   "id": "a3eb309b-06c6-4f55-8c2d-07a81a378d79",
   "metadata": {},
   "outputs": [],
   "source": [
    "model.learn(total_timesteps=500000)"
   ]
  },
  {
   "cell_type": "code",
   "execution_count": null,
   "id": "7e00f8eb-91af-42f0-9e76-1d5a0dfc1889",
   "metadata": {},
   "outputs": [],
   "source": [
    "# save my model\n",
    "\n",
    "model.save(\"training/models/PPO_500k_Driving_model\")"
   ]
  },
  {
   "cell_type": "code",
   "execution_count": null,
   "id": "42858674-612b-4fb9-b24d-bce09d3b6ace",
   "metadata": {},
   "outputs": [],
   "source": [
    "del model"
   ]
  },
  {
   "cell_type": "code",
   "execution_count": null,
   "id": "9f32c980-990f-4add-8cc9-162dbe9dc47e",
   "metadata": {},
   "outputs": [],
   "source": [
    "# load the model\n",
    "\n",
    "model = PPO.load(\"training/models/PPO_500k_Driving_model\")"
   ]
  },
  {
   "cell_type": "code",
   "execution_count": null,
   "id": "f3d1e8cb-cc9d-4eef-a05e-eb68569ac4f4",
   "metadata": {},
   "outputs": [],
   "source": [
    "# evaluate the model\n",
    "evaluate_policy(model, env, n_eval_episodes=5, render=True)"
   ]
  },
  {
   "cell_type": "code",
   "execution_count": null,
   "id": "cf7131f1-53a4-4f8d-9ce4-566cae364f90",
   "metadata": {},
   "outputs": [],
   "source": [
    "env.close()"
   ]
  },
  {
   "cell_type": "code",
   "execution_count": null,
   "id": "abf2923d-b28b-4ba3-8d23-c6dc256c9fc5",
   "metadata": {},
   "outputs": [],
   "source": []
  },
  {
   "cell_type": "code",
   "execution_count": null,
   "id": "129716b2-e96d-4ff2-a726-a0fda38e661c",
   "metadata": {},
   "outputs": [],
   "source": []
  },
  {
   "cell_type": "code",
   "execution_count": null,
   "id": "a4f2e406-0055-472a-9427-4ed5c84cafd8",
   "metadata": {},
   "outputs": [],
   "source": []
  }
 ],
 "metadata": {
  "kernelspec": {
   "display_name": "Python 3 (ipykernel)",
   "language": "python",
   "name": "python3"
  },
  "language_info": {
   "codemirror_mode": {
    "name": "ipython",
    "version": 3
   },
   "file_extension": ".py",
   "mimetype": "text/x-python",
   "name": "python",
   "nbconvert_exporter": "python",
   "pygments_lexer": "ipython3",
   "version": "3.11.9"
  }
 },
 "nbformat": 4,
 "nbformat_minor": 5
}
