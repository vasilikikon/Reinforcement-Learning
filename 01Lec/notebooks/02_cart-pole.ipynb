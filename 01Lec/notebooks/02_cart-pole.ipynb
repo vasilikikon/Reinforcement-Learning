{
 "cells": [
  {
   "cell_type": "code",
   "execution_count": 1,
   "id": "04c595b3-63e5-4916-a1f5-6cd6344df112",
   "metadata": {},
   "outputs": [],
   "source": [
    "#! python --version\n"
   ]
  },
  {
   "cell_type": "code",
   "execution_count": 2,
   "id": "020ae368-1d15-4e92-8ca9-9616ed6b2bcf",
   "metadata": {},
   "outputs": [],
   "source": [
    "#import gym"
   ]
  },
  {
   "cell_type": "code",
   "execution_count": 3,
   "id": "d26622df-3f45-4801-a781-cc2046305754",
   "metadata": {},
   "outputs": [],
   "source": [
    "#! pip3 install gym"
   ]
  },
  {
   "cell_type": "code",
   "execution_count": 4,
   "id": "eb1e6ae6-accc-4d24-b33e-aec65df3277a",
   "metadata": {},
   "outputs": [],
   "source": [
    "#! pip3 install pygame"
   ]
  },
  {
   "cell_type": "code",
   "execution_count": 1,
   "id": "900513a7-8c6b-47aa-ba0f-2e896bc1eff8",
   "metadata": {},
   "outputs": [],
   "source": [
    "import gym"
   ]
  },
  {
   "cell_type": "code",
   "execution_count": 2,
   "id": "8730ee6c-32c8-4f64-8181-b9c72d4cbcce",
   "metadata": {},
   "outputs": [],
   "source": [
    "env = gym.make(\"CartPole-v1\", render_mode=\"human\")"
   ]
  },
  {
   "cell_type": "code",
   "execution_count": 3,
   "id": "8d205ba8-8ed7-444f-b190-8a7ff96f93d1",
   "metadata": {},
   "outputs": [
    {
     "data": {
      "text/plain": [
       "(array([ 0.02165893, -0.02100198,  0.03013235, -0.03047853], dtype=float32),\n",
       " {})"
      ]
     },
     "execution_count": 3,
     "metadata": {},
     "output_type": "execute_result"
    }
   ],
   "source": [
    "# neutural state\n",
    "env.reset()"
   ]
  },
  {
   "cell_type": "code",
   "execution_count": 4,
   "id": "1f56e088-bf8d-48dd-a9c6-f6b3819340f7",
   "metadata": {},
   "outputs": [],
   "source": [
    "#env.render()"
   ]
  },
  {
   "cell_type": "code",
   "execution_count": 5,
   "id": "ce5caa71-8a7b-4ec1-9b3c-17aa4905be7f",
   "metadata": {},
   "outputs": [],
   "source": [
    "#env.close()\n"
   ]
  },
  {
   "cell_type": "code",
   "execution_count": 6,
   "id": "c4b78271-7852-43b4-aa7d-1f078dbcf5f2",
   "metadata": {},
   "outputs": [
    {
     "data": {
      "text/plain": [
       "Discrete(2)"
      ]
     },
     "execution_count": 6,
     "metadata": {},
     "output_type": "execute_result"
    }
   ],
   "source": [
    "#env.action_space"
   ]
  },
  {
   "cell_type": "code",
   "execution_count": 7,
   "id": "760f8241-8270-4b13-b1b0-cff3e6268494",
   "metadata": {},
   "outputs": [
    {
     "data": {
      "text/plain": [
       "0"
      ]
     },
     "execution_count": 7,
     "metadata": {},
     "output_type": "execute_result"
    }
   ],
   "source": [
    "#env.action_space.sample()"
   ]
  },
  {
   "cell_type": "code",
   "execution_count": 8,
   "id": "12d6a935-6ace-4c30-88ec-07634263c951",
   "metadata": {},
   "outputs": [],
   "source": [
    "#env.close()"
   ]
  },
  {
   "cell_type": "code",
   "execution_count": 9,
   "id": "71df393d-eb33-4ce0-943c-c4c67c15b289",
   "metadata": {},
   "outputs": [
    {
     "name": "stderr",
     "output_type": "stream",
     "text": [
      "C:\\Users\\vasil\\miniconda3\\envs\\rl\\Lib\\site-packages\\gym\\utils\\passive_env_checker.py:233: DeprecationWarning: `np.bool8` is a deprecated alias for `np.bool_`.  (Deprecated NumPy 1.24)\n",
      "  if not isinstance(terminated, (bool, np.bool8)):\n"
     ]
    },
    {
     "name": "stdout",
     "output_type": "stream",
     "text": [
      "Episode #: 1\n",
      "Score #: 65.0\n",
      "Episode #: 2\n",
      "Score #: 10.0\n",
      "Episode #: 3\n",
      "Score #: 15.0\n",
      "Episode #: 4\n",
      "Score #: 13.0\n",
      "Episode #: 5\n",
      "Score #: 17.0\n",
      "Episode #: 6\n",
      "Score #: 13.0\n",
      "Episode #: 7\n",
      "Score #: 19.0\n",
      "Episode #: 8\n",
      "Score #: 15.0\n",
      "Episode #: 9\n",
      "Score #: 14.0\n",
      "Episode #: 10\n",
      "Score #: 33.0\n"
     ]
    }
   ],
   "source": [
    "env = gym.make(\"CartPole-v1\", render_mode=\"human\")\n",
    "episodes = 10\n",
    "\n",
    "for e in range(1, episodes+1):\n",
    "    state = env.reset()\n",
    "    done = False\n",
    "    score = 0\n",
    "    \n",
    "    while not done:\n",
    "        env.render()\n",
    "        action = env.action_space.sample() # we are random actions, left and right\n",
    "        n_state, reward, done, _, info = env.step(action)\n",
    "        score += reward\n",
    "    print(f\"Episode #: {e}\")\n",
    "    print(f\"Score #: {score}\")\n",
    "   #print(e)\n",
    "\n",
    "env.close()"
   ]
  },
  {
   "cell_type": "code",
   "execution_count": 10,
   "id": "95589f0f-92ac-450f-9b97-191538b7ecdd",
   "metadata": {},
   "outputs": [],
   "source": [
    "#!pip3 install stable-baselines3[extra]"
   ]
  },
  {
   "cell_type": "code",
   "execution_count": 11,
   "id": "7d171868-0fff-4ad0-8670-333cb68435f8",
   "metadata": {},
   "outputs": [],
   "source": [
    "from stable_baselines3 import PPO #the algorythm we are importing\n",
    "\n",
    "from stable_baselines3.common.vec_env import DummyVecEnv\n",
    "\n",
    "from stable_baselines3.common.evaluation import evaluate_policy\n",
    "\n"
   ]
  },
  {
   "cell_type": "code",
   "execution_count": 12,
   "id": "2de23f05-3bd9-4d91-9312-53d12f65d62e",
   "metadata": {},
   "outputs": [
    {
     "name": "stderr",
     "output_type": "stream",
     "text": [
      "C:\\Users\\vasil\\miniconda3\\envs\\rl\\Lib\\site-packages\\stable_baselines3\\common\\vec_env\\patch_gym.py:49: UserWarning: You provided an OpenAI Gym environment. We strongly recommend transitioning to Gymnasium environments. Stable-Baselines3 is automatically wrapping your environments in a compatibility layer, which could potentially cause issues.\n",
      "  warnings.warn(\n"
     ]
    },
    {
     "name": "stdout",
     "output_type": "stream",
     "text": [
      "Using cpu device\n"
     ]
    }
   ],
   "source": [
    "#PPO?\n",
    "#create env again\n",
    "env = gym.make(\"CartPole-v1\", render_mode=\"human\")\n",
    "#vectorize our env\n",
    "env = DummyVecEnv([lambda:env])\n",
    "#import the algorythm\n",
    "#, \n",
    "model = PPO('MlpPolicy', env, verbose=1, tensorboard_log=\"/training/logs\")\n"
   ]
  },
  {
   "cell_type": "code",
   "execution_count": 13,
   "id": "81f8e4cb-37bf-435f-881e-a844a292dcce",
   "metadata": {},
   "outputs": [
    {
     "name": "stdout",
     "output_type": "stream",
     "text": [
      "Logging to /training/logs\\PPO_2\n"
     ]
    },
    {
     "name": "stderr",
     "output_type": "stream",
     "text": [
      "C:\\Users\\vasil\\miniconda3\\envs\\rl\\Lib\\site-packages\\gym\\utils\\passive_env_checker.py:233: DeprecationWarning: `np.bool8` is a deprecated alias for `np.bool_`.  (Deprecated NumPy 1.24)\n",
      "  if not isinstance(terminated, (bool, np.bool8)):\n"
     ]
    },
    {
     "name": "stdout",
     "output_type": "stream",
     "text": [
      "-----------------------------\n",
      "| time/              |      |\n",
      "|    fps             | 46   |\n",
      "|    iterations      | 1    |\n",
      "|    time_elapsed    | 44   |\n",
      "|    total_timesteps | 2048 |\n",
      "-----------------------------\n"
     ]
    },
    {
     "data": {
      "text/plain": [
       "<stable_baselines3.ppo.ppo.PPO at 0x19f28884f50>"
      ]
     },
     "execution_count": 13,
     "metadata": {},
     "output_type": "execute_result"
    }
   ],
   "source": [
    "model.learn(total_timesteps=200)"
   ]
  },
  {
   "cell_type": "code",
   "execution_count": 14,
   "id": "f7289b2e-388a-4d6e-b2e5-14d864318d20",
   "metadata": {},
   "outputs": [],
   "source": [
    "model.save(\"training/models/cartpole\")\n",
    "#env.close()"
   ]
  },
  {
   "cell_type": "code",
   "execution_count": 15,
   "id": "a46dbab1-b151-4cd5-b0d9-38c65cef9b1e",
   "metadata": {},
   "outputs": [],
   "source": [
    "#deleting the model (to show later on that i can reimport the model)\n",
    "del model\n"
   ]
  },
  {
   "cell_type": "code",
   "execution_count": 21,
   "id": "196c7d9d-50b6-4bd1-9ab3-91dffd7c05cd",
   "metadata": {},
   "outputs": [
    {
     "name": "stdout",
     "output_type": "stream",
     "text": [
      "Wrapping the env with a `Monitor` wrapper\n",
      "Wrapping the env in a DummyVecEnv.\n"
     ]
    },
    {
     "name": "stderr",
     "output_type": "stream",
     "text": [
      "C:\\Users\\vasil\\miniconda3\\envs\\rl\\Lib\\site-packages\\stable_baselines3\\common\\vec_env\\patch_gym.py:49: UserWarning: You provided an OpenAI Gym environment. We strongly recommend transitioning to Gymnasium environments. Stable-Baselines3 is automatically wrapping your environments in a compatibility layer, which could potentially cause issues.\n",
      "  warnings.warn(\n"
     ]
    }
   ],
   "source": [
    "#import model\n",
    "env = gym.make(\"CartPole-v1\", render_mode=\"human\")\n",
    "model_path = \"training/models/cartpole\"\n",
    "model = PPO.load(model_path, env=env)"
   ]
  },
  {
   "cell_type": "code",
   "execution_count": 22,
   "id": "6becaf5a-b981-4b5d-bd7e-2393e0943643",
   "metadata": {},
   "outputs": [
    {
     "data": {
      "text/plain": [
       "(342.0, 84.55057657993824)"
      ]
     },
     "execution_count": 22,
     "metadata": {},
     "output_type": "execute_result"
    }
   ],
   "source": [
    "evaluate_policy(model, env, n_eval_episodes=5, render=True)"
   ]
  },
  {
   "cell_type": "code",
   "execution_count": 23,
   "id": "fc7c0c27-b20c-4bd0-b24c-3ac938e0a088",
   "metadata": {},
   "outputs": [],
   "source": [
    "env.close()"
   ]
  },
  {
   "cell_type": "code",
   "execution_count": 24,
   "id": "046e3d51-4f0d-4558-b890-374b555a5f3c",
   "metadata": {},
   "outputs": [
    {
     "data": {
      "text/plain": [
       "1"
      ]
     },
     "execution_count": 24,
     "metadata": {},
     "output_type": "execute_result"
    }
   ],
   "source": [
    "env.action_space.sample()"
   ]
  },
  {
   "cell_type": "code",
   "execution_count": 25,
   "id": "53908990-b2e1-46ee-80a6-4f9e520ae28d",
   "metadata": {},
   "outputs": [
    {
     "ename": "error",
     "evalue": "display Surface quit",
     "output_type": "error",
     "traceback": [
      "\u001b[1;31m---------------------------------------------------------------------------\u001b[0m",
      "\u001b[1;31merror\u001b[0m                                     Traceback (most recent call last)",
      "Cell \u001b[1;32mIn[25], line 1\u001b[0m\n\u001b[1;32m----> 1\u001b[0m obs, _ \u001b[38;5;241m=\u001b[39m env\u001b[38;5;241m.\u001b[39mreset()\n\u001b[0;32m      3\u001b[0m model\u001b[38;5;241m.\u001b[39mpredict(obs)\n",
      "File \u001b[1;32m~\\miniconda3\\envs\\rl\\Lib\\site-packages\\gym\\wrappers\\time_limit.py:68\u001b[0m, in \u001b[0;36mTimeLimit.reset\u001b[1;34m(self, **kwargs)\u001b[0m\n\u001b[0;32m     59\u001b[0m \u001b[38;5;250m\u001b[39m\u001b[38;5;124;03m\"\"\"Resets the environment with :param:`**kwargs` and sets the number of steps elapsed to zero.\u001b[39;00m\n\u001b[0;32m     60\u001b[0m \n\u001b[0;32m     61\u001b[0m \u001b[38;5;124;03mArgs:\u001b[39;00m\n\u001b[1;32m   (...)\u001b[0m\n\u001b[0;32m     65\u001b[0m \u001b[38;5;124;03m    The reset environment\u001b[39;00m\n\u001b[0;32m     66\u001b[0m \u001b[38;5;124;03m\"\"\"\u001b[39;00m\n\u001b[0;32m     67\u001b[0m \u001b[38;5;28mself\u001b[39m\u001b[38;5;241m.\u001b[39m_elapsed_steps \u001b[38;5;241m=\u001b[39m \u001b[38;5;241m0\u001b[39m\n\u001b[1;32m---> 68\u001b[0m \u001b[38;5;28;01mreturn\u001b[39;00m \u001b[38;5;28mself\u001b[39m\u001b[38;5;241m.\u001b[39menv\u001b[38;5;241m.\u001b[39mreset(\u001b[38;5;241m*\u001b[39m\u001b[38;5;241m*\u001b[39mkwargs)\n",
      "File \u001b[1;32m~\\miniconda3\\envs\\rl\\Lib\\site-packages\\gym\\wrappers\\order_enforcing.py:42\u001b[0m, in \u001b[0;36mOrderEnforcing.reset\u001b[1;34m(self, **kwargs)\u001b[0m\n\u001b[0;32m     40\u001b[0m \u001b[38;5;250m\u001b[39m\u001b[38;5;124;03m\"\"\"Resets the environment with `kwargs`.\"\"\"\u001b[39;00m\n\u001b[0;32m     41\u001b[0m \u001b[38;5;28mself\u001b[39m\u001b[38;5;241m.\u001b[39m_has_reset \u001b[38;5;241m=\u001b[39m \u001b[38;5;28;01mTrue\u001b[39;00m\n\u001b[1;32m---> 42\u001b[0m \u001b[38;5;28;01mreturn\u001b[39;00m \u001b[38;5;28mself\u001b[39m\u001b[38;5;241m.\u001b[39menv\u001b[38;5;241m.\u001b[39mreset(\u001b[38;5;241m*\u001b[39m\u001b[38;5;241m*\u001b[39mkwargs)\n",
      "File \u001b[1;32m~\\miniconda3\\envs\\rl\\Lib\\site-packages\\gym\\wrappers\\env_checker.py:47\u001b[0m, in \u001b[0;36mPassiveEnvChecker.reset\u001b[1;34m(self, **kwargs)\u001b[0m\n\u001b[0;32m     45\u001b[0m     \u001b[38;5;28;01mreturn\u001b[39;00m env_reset_passive_checker(\u001b[38;5;28mself\u001b[39m\u001b[38;5;241m.\u001b[39menv, \u001b[38;5;241m*\u001b[39m\u001b[38;5;241m*\u001b[39mkwargs)\n\u001b[0;32m     46\u001b[0m \u001b[38;5;28;01melse\u001b[39;00m:\n\u001b[1;32m---> 47\u001b[0m     \u001b[38;5;28;01mreturn\u001b[39;00m \u001b[38;5;28mself\u001b[39m\u001b[38;5;241m.\u001b[39menv\u001b[38;5;241m.\u001b[39mreset(\u001b[38;5;241m*\u001b[39m\u001b[38;5;241m*\u001b[39mkwargs)\n",
      "File \u001b[1;32m~\\miniconda3\\envs\\rl\\Lib\\site-packages\\gym\\envs\\classic_control\\cartpole.py:206\u001b[0m, in \u001b[0;36mCartPoleEnv.reset\u001b[1;34m(self, seed, options)\u001b[0m\n\u001b[0;32m    203\u001b[0m \u001b[38;5;28mself\u001b[39m\u001b[38;5;241m.\u001b[39msteps_beyond_terminated \u001b[38;5;241m=\u001b[39m \u001b[38;5;28;01mNone\u001b[39;00m\n\u001b[0;32m    205\u001b[0m \u001b[38;5;28;01mif\u001b[39;00m \u001b[38;5;28mself\u001b[39m\u001b[38;5;241m.\u001b[39mrender_mode \u001b[38;5;241m==\u001b[39m \u001b[38;5;124m\"\u001b[39m\u001b[38;5;124mhuman\u001b[39m\u001b[38;5;124m\"\u001b[39m:\n\u001b[1;32m--> 206\u001b[0m     \u001b[38;5;28mself\u001b[39m\u001b[38;5;241m.\u001b[39mrender()\n\u001b[0;32m    207\u001b[0m \u001b[38;5;28;01mreturn\u001b[39;00m np\u001b[38;5;241m.\u001b[39marray(\u001b[38;5;28mself\u001b[39m\u001b[38;5;241m.\u001b[39mstate, dtype\u001b[38;5;241m=\u001b[39mnp\u001b[38;5;241m.\u001b[39mfloat32), {}\n",
      "File \u001b[1;32m~\\miniconda3\\envs\\rl\\Lib\\site-packages\\gym\\envs\\classic_control\\cartpole.py:295\u001b[0m, in \u001b[0;36mCartPoleEnv.render\u001b[1;34m(self)\u001b[0m\n\u001b[0;32m    292\u001b[0m gfxdraw\u001b[38;5;241m.\u001b[39mhline(\u001b[38;5;28mself\u001b[39m\u001b[38;5;241m.\u001b[39msurf, \u001b[38;5;241m0\u001b[39m, \u001b[38;5;28mself\u001b[39m\u001b[38;5;241m.\u001b[39mscreen_width, carty, (\u001b[38;5;241m0\u001b[39m, \u001b[38;5;241m0\u001b[39m, \u001b[38;5;241m0\u001b[39m))\n\u001b[0;32m    294\u001b[0m \u001b[38;5;28mself\u001b[39m\u001b[38;5;241m.\u001b[39msurf \u001b[38;5;241m=\u001b[39m pygame\u001b[38;5;241m.\u001b[39mtransform\u001b[38;5;241m.\u001b[39mflip(\u001b[38;5;28mself\u001b[39m\u001b[38;5;241m.\u001b[39msurf, \u001b[38;5;28;01mFalse\u001b[39;00m, \u001b[38;5;28;01mTrue\u001b[39;00m)\n\u001b[1;32m--> 295\u001b[0m \u001b[38;5;28mself\u001b[39m\u001b[38;5;241m.\u001b[39mscreen\u001b[38;5;241m.\u001b[39mblit(\u001b[38;5;28mself\u001b[39m\u001b[38;5;241m.\u001b[39msurf, (\u001b[38;5;241m0\u001b[39m, \u001b[38;5;241m0\u001b[39m))\n\u001b[0;32m    296\u001b[0m \u001b[38;5;28;01mif\u001b[39;00m \u001b[38;5;28mself\u001b[39m\u001b[38;5;241m.\u001b[39mrender_mode \u001b[38;5;241m==\u001b[39m \u001b[38;5;124m\"\u001b[39m\u001b[38;5;124mhuman\u001b[39m\u001b[38;5;124m\"\u001b[39m:\n\u001b[0;32m    297\u001b[0m     pygame\u001b[38;5;241m.\u001b[39mevent\u001b[38;5;241m.\u001b[39mpump()\n",
      "\u001b[1;31merror\u001b[0m: display Surface quit"
     ]
    }
   ],
   "source": [
    "# obs, _ = env.reset()\n",
    "\n",
    "#model.predict(obs)"
   ]
  },
  {
   "cell_type": "code",
   "execution_count": 27,
   "id": "8e11455c-c8e7-47c6-b998-22306fa9d21c",
   "metadata": {},
   "outputs": [
    {
     "name": "stdout",
     "output_type": "stream",
     "text": [
      "Episode #: 1\n",
      "Score #: 34.0\n",
      "Episode #: 2\n",
      "Score #: 9.0\n",
      "Episode #: 3\n",
      "Score #: 37.0\n",
      "Episode #: 4\n",
      "Score #: 69.0\n",
      "Episode #: 5\n",
      "Score #: 32.0\n",
      "Episode #: 6\n",
      "Score #: 30.0\n",
      "Episode #: 7\n",
      "Score #: 15.0\n",
      "Episode #: 8\n",
      "Score #: 14.0\n",
      "Episode #: 9\n",
      "Score #: 102.0\n",
      "Episode #: 10\n",
      "Score #: 12.0\n"
     ]
    }
   ],
   "source": [
    "env = gym.make(\"CartPole-v1\", render_mode=\"human\")\n",
    "episodes = 10\n",
    "\n",
    "for e in range(1, episodes+1):\n",
    "    obs, _ = env.reset()\n",
    "    done = False\n",
    "    score = 0\n",
    "    \n",
    "    while not done:\n",
    "        env.render()\n",
    "        action, _ = model.predict(obs)\n",
    "        obs, reward, done, _, info = env.step(action)\n",
    "        score += reward\n",
    "    print(f\"Episode #: {e}\")\n",
    "    print(f\"Score #: {score}\")\n",
    "   #print(e)\n",
    "\n",
    "env.close()"
   ]
  },
  {
   "cell_type": "code",
   "execution_count": null,
   "id": "e67cfc85-5843-4cde-94f6-804acdb526f0",
   "metadata": {},
   "outputs": [],
   "source": [
    "from stable_baselines3 import DQN\n",
    "\n",
    "env = gym.make(\"CartPole-v1\", render_mode=\"human\")\n",
    "model = DQN('MlpPolicy', env, verbose = 1, tensorboard_log=log_path)"
   ]
  },
  {
   "cell_type": "code",
   "execution_count": 28,
   "id": "5187198c-1afa-4a92-95da-358541e1e121",
   "metadata": {},
   "outputs": [
    {
     "name": "stdout",
     "output_type": "stream",
     "text": [
      "Requirement already satisfied: tensorboard in c:\\users\\vasil\\miniconda3\\envs\\rl\\lib\\site-packages (2.16.2)\n",
      "Requirement already satisfied: absl-py>=0.4 in c:\\users\\vasil\\miniconda3\\envs\\rl\\lib\\site-packages (from tensorboard) (2.1.0)\n",
      "Requirement already satisfied: grpcio>=1.48.2 in c:\\users\\vasil\\miniconda3\\envs\\rl\\lib\\site-packages (from tensorboard) (1.64.0)\n",
      "Requirement already satisfied: markdown>=2.6.8 in c:\\users\\vasil\\miniconda3\\envs\\rl\\lib\\site-packages (from tensorboard) (3.6)\n",
      "Requirement already satisfied: numpy>=1.12.0 in c:\\users\\vasil\\miniconda3\\envs\\rl\\lib\\site-packages (from tensorboard) (1.26.4)\n",
      "Requirement already satisfied: protobuf!=4.24.0,>=3.19.6 in c:\\users\\vasil\\miniconda3\\envs\\rl\\lib\\site-packages (from tensorboard) (5.27.0)\n",
      "Requirement already satisfied: setuptools>=41.0.0 in c:\\users\\vasil\\miniconda3\\envs\\rl\\lib\\site-packages (from tensorboard) (69.5.1)\n",
      "Requirement already satisfied: six>1.9 in c:\\users\\vasil\\miniconda3\\envs\\rl\\lib\\site-packages (from tensorboard) (1.16.0)\n",
      "Requirement already satisfied: tensorboard-data-server<0.8.0,>=0.7.0 in c:\\users\\vasil\\miniconda3\\envs\\rl\\lib\\site-packages (from tensorboard) (0.7.2)\n",
      "Requirement already satisfied: werkzeug>=1.0.1 in c:\\users\\vasil\\miniconda3\\envs\\rl\\lib\\site-packages (from tensorboard) (3.0.3)\n",
      "Requirement already satisfied: MarkupSafe>=2.1.1 in c:\\users\\vasil\\miniconda3\\envs\\rl\\lib\\site-packages (from werkzeug>=1.0.1->tensorboard) (2.1.3)\n"
     ]
    }
   ],
   "source": [
    "#! pip3 install tensorboard"
   ]
  },
  {
   "cell_type": "code",
   "execution_count": null,
   "id": "009f70af-5621-4ace-9d1d-ff498fd8f054",
   "metadata": {},
   "outputs": [],
   "source": [
    "#Logging to /training/logs\\PPO_2\n",
    "\n",
    "\n",
    "log_path = \"/training/logs\\PPO_2\"\n",
    "!tensorboard --logdir={log_path}\n"
   ]
  },
  {
   "cell_type": "code",
   "execution_count": null,
   "id": "f7761606-1f65-47bf-91c2-5d45eeed32dc",
   "metadata": {},
   "outputs": [],
   "source": [
    "print(\"hi\")"
   ]
  },
  {
   "cell_type": "code",
   "execution_count": null,
   "id": "6112154d-3c9f-4b0a-9708-6432219857bb",
   "metadata": {},
   "outputs": [],
   "source": []
  },
  {
   "cell_type": "code",
   "execution_count": null,
   "id": "603937ac-18c8-49ef-af75-da4d87495922",
   "metadata": {},
   "outputs": [],
   "source": []
  },
  {
   "cell_type": "code",
   "execution_count": null,
   "id": "beb05735-e861-4675-852b-dbee1b1817fc",
   "metadata": {},
   "outputs": [],
   "source": []
  },
  {
   "cell_type": "code",
   "execution_count": null,
   "id": "8c6c52c4-75fa-4869-ae34-a4676f0388be",
   "metadata": {},
   "outputs": [],
   "source": []
  }
 ],
 "metadata": {
  "kernelspec": {
   "display_name": "Python 3 (ipykernel)",
   "language": "python",
   "name": "python3"
  },
  "language_info": {
   "codemirror_mode": {
    "name": "ipython",
    "version": 3
   },
   "file_extension": ".py",
   "mimetype": "text/x-python",
   "name": "python",
   "nbconvert_exporter": "python",
   "pygments_lexer": "ipython3",
   "version": "3.11.9"
  }
 },
 "nbformat": 4,
 "nbformat_minor": 5
}
